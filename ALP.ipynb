{
 "cells": [
  {
   "cell_type": "markdown",
   "metadata": {},
   "source": [
    "# Trend Youtube"
   ]
  },
  {
   "cell_type": "code",
   "execution_count": 1,
   "metadata": {},
   "outputs": [],
   "source": [
    "import numpy as np\n",
    "import pandas as pd\n",
    "import re\n",
    "import matplotlib as mpl\n",
    "from sklearn.feature_extraction.text import TfidfVectorizer\n",
    "from sklearn.metrics.pairwise import linear_kernel\n",
    "from nltk.corpus import stopwords\n",
    "from pyspark.sql import SparkSession\n",
    "from pyspark.ml.regression import LinearRegression\n",
    "from pyspark.sql.functions import col, mode, mean, median\n",
    "from pyspark.ml.feature import StringIndexer, VectorAssembler"
   ]
  },
  {
   "cell_type": "code",
   "execution_count": 2,
   "metadata": {},
   "outputs": [
    {
     "name": "stdout",
     "output_type": "stream",
     "text": [
      "                                                 Title  \\\n",
      "0    Call of Duty League Major III Tournament | Cha...   \n",
      "1     I Tried Every Seat on the Most Expensive Airline   \n",
      "2    Inside the NBA Reacts To Timberwolves Stunning...   \n",
      "3                      I protected a LEGO PRESIDENT...   \n",
      "4    #3 TIMBERWOLVES at #2 NUGGETS | FULL GAME 7 HI...   \n",
      "..                                                 ...   \n",
      "995  How Sweet - NewJeans ニュージーンズ 뉴진스 [Music Bank] ...   \n",
      "996                           THE HEART PART 6 - DRAKE   \n",
      "997  How Did Tim Duncan Agree to This Interview...?...   \n",
      "998                     fortnite season 3 is broken...   \n",
      "999  Garnacho & Mainoo Lead United Glory! 🏆 | Man C...   \n",
      "\n",
      "                                           Description  \\\n",
      "0    Welcome to the #CDL2024 Major III Tournament! ...   \n",
      "1    I owed a guy a favor\\nsign up for shopify for ...   \n",
      "2    Watch highlights from Inside the NBA with Shaq...   \n",
      "3    Submit a banger video idea here: https://forms...   \n",
      "4    Never miss a moment with the latest news, tren...   \n",
      "..                                                 ...   \n",
      "995  #HowSweet #NewJeans #뉴진스\\n#musicbank  #뮤직뱅크 #ミ...   \n",
      "996                                                NaN   \n",
      "997  In 2016, Tim Duncan retired from the league as...   \n",
      "998  Fortnite SEASON 3 is HERE!!! (NEW WEAPONS, BAT...   \n",
      "999  Watch the extended highlights from Manchester ...   \n",
      "\n",
      "                                          Thumbnail  \n",
      "0    https://i.ytimg.com/vi/LhgNWp0evvY/default.jpg  \n",
      "1    https://i.ytimg.com/vi/ymvjfu_Hm_8/default.jpg  \n",
      "2    https://i.ytimg.com/vi/MT11io1YWig/default.jpg  \n",
      "3    https://i.ytimg.com/vi/GJKAmywYTgQ/default.jpg  \n",
      "4    https://i.ytimg.com/vi/IHTvqrEOVg4/default.jpg  \n",
      "..                                              ...  \n",
      "995  https://i.ytimg.com/vi/UEELqlGOl_k/default.jpg  \n",
      "996  https://i.ytimg.com/vi/HJeY-FXidDQ/default.jpg  \n",
      "997  https://i.ytimg.com/vi/BFAPeTdQSpM/default.jpg  \n",
      "998  https://i.ytimg.com/vi/0Lty7TVR7jw/default.jpg  \n",
      "999  https://i.ytimg.com/vi/Ih0limtdYS8/default.jpg  \n",
      "\n",
      "[1000 rows x 3 columns]\n"
     ]
    }
   ],
   "source": [
    "# spark = SparkSession.builder.appName(\"Youtube Trend\").getOrCreate()\n",
    "\n",
    "# df1 = pd.read_csv('youtube1.csv')\n",
    "# df2 = pd.read_csv('youtube2.csv')\n",
    "# df3 = pd.read_csv('youtube3.csv')\n",
    "# df4 = pd.read_csv('youtube4.csv')\n",
    "# df5 = pd.read_csv('youtube5.csv')\n",
    "\n",
    "# merge all dataset\n",
    "# df = pd.concat(\n",
    "#     map(pd.read_csv, ['youtube1.csv', 'youtube2.csv', 'youtube3.csv', 'youtube4.csv', 'youtube5.csv']), \n",
    "#     ignore_index=True)\n",
    "\n",
    "df = pd.read_csv('mergedyoutubedata.csv')\n",
    "print(df)"
   ]
  },
  {
   "cell_type": "code",
   "execution_count": 3,
   "metadata": {},
   "outputs": [
    {
     "name": "stdout",
     "output_type": "stream",
     "text": [
      "Null Count for all Data\n",
      "28\n",
      "\n",
      "Null count for every column\n",
      "Title           0\n",
      "Description    28\n",
      "Thumbnail       0\n",
      "dtype: int64\n",
      "\n",
      "Unique Count\n",
      "Title          708\n",
      "Description    682\n",
      "Thumbnail      706\n",
      "dtype: int64\n",
      "\n",
      "Duplicated Rows\n",
      "285\n",
      "\n",
      "     level_0                                              Title  \\\n",
      "0          0  Call of Duty League Major III Tournament | Cha...   \n",
      "1          1   I Tried Every Seat on the Most Expensive Airline   \n",
      "2          2  Inside the NBA Reacts To Timberwolves Stunning...   \n",
      "3          3                    I protected a LEGO PRESIDENT...   \n",
      "4          4  #3 TIMBERWOLVES at #2 NUGGETS | FULL GAME 7 HI...   \n",
      "..       ...                                                ...   \n",
      "692      710                              0.001% CAN DO THIS...   \n",
      "693      711          UFC 302 Embedded: Vlog Series - Episode 2   \n",
      "694      712           I Bought The Most Expensive Plane Ticket   \n",
      "695      713         Testing My Off-Road Corvette On Sand dunes   \n",
      "696      714  CENTRAL CEE FT. LIL BABY - BAND4BAND (MUSIC VI...   \n",
      "\n",
      "                                           Description  \\\n",
      "0    Welcome to the #CDL2024 Major III Tournament! ...   \n",
      "1    I owed a guy a favor\\nsign up for shopify for ...   \n",
      "2    Watch highlights from Inside the NBA with Shaq...   \n",
      "3    Submit a banger video idea here: https://forms...   \n",
      "4    Never miss a moment with the latest news, tren...   \n",
      "..                                                 ...   \n",
      "692  today i complete the impossible\\n\\nUSE CODE \"N...   \n",
      "693  Champ Islam Makhachev caffeinates. Sean Strick...   \n",
      "694  @Niko  finds out what the worlds most expensiv...   \n",
      "695  PDS Debt is offering a free debt analysis. It ...   \n",
      "696  Listen: https://centralcee.lnk.to/BAND4BAND\\n\\...   \n",
      "\n",
      "                                          Thumbnail  \n",
      "0    https://i.ytimg.com/vi/LhgNWp0evvY/default.jpg  \n",
      "1    https://i.ytimg.com/vi/ymvjfu_Hm_8/default.jpg  \n",
      "2    https://i.ytimg.com/vi/MT11io1YWig/default.jpg  \n",
      "3    https://i.ytimg.com/vi/GJKAmywYTgQ/default.jpg  \n",
      "4    https://i.ytimg.com/vi/IHTvqrEOVg4/default.jpg  \n",
      "..                                              ...  \n",
      "692  https://i.ytimg.com/vi/Yhgn4Q0LRjc/default.jpg  \n",
      "693  https://i.ytimg.com/vi/lJh3hi6N3VA/default.jpg  \n",
      "694  https://i.ytimg.com/vi/PaFMAgfkpyY/default.jpg  \n",
      "695  https://i.ytimg.com/vi/Jk9rPeaSw_0/default.jpg  \n",
      "696  https://i.ytimg.com/vi/pDddlvCfTiw/default.jpg  \n",
      "\n",
      "[697 rows x 4 columns]\n"
     ]
    }
   ],
   "source": [
    "# Null Count for the entire Dataset\n",
    "print(\"Null Count for all Data\")\n",
    "print(df.isnull().sum().sum())\n",
    "print(\"\")\n",
    "\n",
    "# Null Count for spesific column\n",
    "print(\"Null count for every column\")\n",
    "print(df.isna().sum())\n",
    "print(\"\")\n",
    "\n",
    "# Unique count\n",
    "unique_count = df.nunique()\n",
    "print(\"Unique Count\")\n",
    "print(unique_count)\n",
    "print(\"\")\n",
    "\n",
    "# Duplicate Rows\n",
    "duplicate_rows = df.duplicated().sum().sum()\n",
    "print(\"Duplicated Rows\")\n",
    "print(duplicate_rows)\n",
    "print(\"\")\n",
    "\n",
    "# Drop duplicate row\n",
    "df = df.drop_duplicates().reset_index()\n",
    "\n",
    "# Deleting Null Contains Rows and re-index entire dataset\n",
    "df = df.dropna().reset_index()\n",
    "df = df.drop(columns=['index'])\n",
    "print(df)"
   ]
  },
  {
   "cell_type": "code",
   "execution_count": 4,
   "metadata": {},
   "outputs": [
    {
     "name": "stdout",
     "output_type": "stream",
     "text": [
      "          level_0\n",
      "count  697.000000\n",
      "mean   356.893831\n",
      "std    206.568022\n",
      "min      0.000000\n",
      "25%    181.000000\n",
      "50%    357.000000\n",
      "75%    534.000000\n",
      "max    714.000000\n"
     ]
    }
   ],
   "source": [
    "print(df.describe())"
   ]
  },
  {
   "cell_type": "code",
   "execution_count": 5,
   "metadata": {},
   "outputs": [
    {
     "data": {
      "text/plain": [
       "<Axes: >"
      ]
     },
     "execution_count": 5,
     "metadata": {},
     "output_type": "execute_result"
    },
    {
     "data": {
      "image/png": "[encoded data removed]",
      "text/plain": [
       "<Figure size 640x480 with 1 Axes>"
      ]
     },
     "metadata": {},
     "output_type": "display_data"
    }
   ],
   "source": [
    "df.plot(kind='bar')"
   ]
  },
  {
   "cell_type": "code",
   "execution_count": 6,
   "metadata": {},
   "outputs": [
    {
     "name": "stdout",
     "output_type": "stream",
     "text": [
      "0      Title: Call of Duty League Major III Tournamen...\n",
      "1      Title: I Tried Every Seat on the Most Expensiv...\n",
      "2      Title: Inside the NBA Reacts To Timberwolves S...\n",
      "3                 Title: I protected a LEGO PRESIDENT   \n",
      "4      Title: #3 TIMBERWOLVES at #2 NUGGETS   FULL GA...\n",
      "                             ...                        \n",
      "692                         Title: 0 001% CAN DO THIS   \n",
      "693     Title: UFC 302 Embedded  Vlog Series   Episode 2\n",
      "694      Title: I Bought The Most Expensive Plane Ticket\n",
      "695    Title: Testing My Off Road Corvette On Sand dunes\n",
      "696    Title: CENTRAL CEE FT  LIL BABY   BAND4BAND (M...\n",
      "Name: title_sentences, Length: 697, dtype: object\n"
     ]
    }
   ],
   "source": [
    "def create_title_sentence(row):\n",
    "    # Handle multiple cuisines\n",
    "    title = row['Title']\n",
    "    if pd.isnull(title):  # Check if cuisines is null\n",
    "        title = \"\"\n",
    "    else:\n",
    "        title = ' '.join(re.split('[|,;:.!?-]', title))\n",
    "        # title = ' '.join(title.split('-'))\n",
    "        # title = ' '.join(title.split('|'))\n",
    "        \n",
    "    \n",
    "    # Return the sentence\n",
    "    return f\"Title: {title}\"\n",
    "\n",
    "# Apply the function to create a new column 'cuisine_sentence' in chefmozcuisine\n",
    "df['title_sentences'] = df.apply(create_title_sentence, axis=1)\n",
    "print(df['title_sentences'])"
   ]
  },
  {
   "cell_type": "code",
   "execution_count": 7,
   "metadata": {},
   "outputs": [
    {
     "name": "stderr",
     "output_type": "stream",
     "text": [
      "/opt/anaconda3/lib/python3.11/site-packages/sklearn/feature_extraction/text.py:409: UserWarning: Your stop_words may be inconsistent with your preprocessing. Tokenizing the stop words generated tokens ['baiknya', 'berkali', 'kali', 'kurangnya', 'mata', 'olah', 'sekurang', 'setidak', 'tama', 'tidaknya'] not in stop_words.\n",
      "  warnings.warn(\n"
     ]
    }
   ],
   "source": [
    "vectorizer = TfidfVectorizer(stop_words=stopwords.words('english'))\n",
    "vectorizer = TfidfVectorizer(stop_words=stopwords.words('indonesian'))\n",
    "tfidf_matrix = vectorizer.fit_transform(df['Title'])\n",
    "cosine_similarities = linear_kernel(tfidf_matrix, tfidf_matrix)"
   ]
  },
  {
   "cell_type": "code",
   "execution_count": 8,
   "metadata": {},
   "outputs": [
    {
     "name": "stdout",
     "output_type": "stream",
     "text": [
      "Selected Title I Tried Every Seat on the Most Expensive Airline\n",
      "Rekomendasi 1: I Accidentally Photographed Something Unknown During the Eclipse - Smarter Every Day 298\n",
      "Rekomendasi 2: I Tried The Best Sandwich In America\n",
      "Rekomendasi 3: I Mixed Every Dog Treat Into One Piece\n",
      "Rekomendasi 4: I bought the most MINIMALIST Tech ever.\n",
      "Rekomendasi 5: Bridgerton Cast vs. 'The Most Impossible Bridgerton Quiz'\n",
      "Rekomendasi 6: 24 Hours to Catch Every Gen 2 Shiny Pokemon\n",
      "Rekomendasi 7: I Built Minecraft’s Most Hidden Bases\n",
      "Rekomendasi 8: Yellowstone’s Most Intense Confrontations ✋ Paramount Network\n",
      "Rekomendasi 9: Every Kind of Bridge Explained in 15 Minutes\n",
      "Rekomendasi 10: I Tried Making Homemade Zebra Cakes | Claire Recreates\n",
      "Rekomendasi 11: The Most Hated Umpire Ever Isn’t Actually Bad\n",
      "Rekomendasi 12: I tried to live like the World's Strongest Man  //  24 hours with  Eddie Hall\n",
      "Rekomendasi 13: I played EVERY Arthur Flash game EVER Made - PBG\n",
      "Rekomendasi 14: I Brutally Rated EVERY YouTuber Product!\n",
      "Rekomendasi 15: Every Pixar Villain Ranked\n",
      "Rekomendasi 16: I Bought The Most Expensive Plane Ticket\n"
     ]
    }
   ],
   "source": [
    "# Membuat dictionary untuk menyimpan judul-judul yang mirip\n",
    "title_similarities = {}\n",
    "\n",
    "# Membuat loop untuk setiap judul\n",
    "for idx1 in range(len(df)):\n",
    "    for idx2 in range(idx1 + 1, len(df)):\n",
    "        # Hitung cosine similarity antara judul idx1 dan idx2\n",
    "        similarity = cosine_similarities[idx1, idx2]\n",
    "        \n",
    "        # Jika cosine similarity lebih besar dari 0.5, maka judul-judul tersebut mirip\n",
    "        if similarity > 0.1:\n",
    "            # Simpan judul-judul yang mirip ke dalam dictionary\n",
    "            if idx1 not in title_similarities:\n",
    "                title_similarities[idx1] = []\n",
    "            title_similarities[idx1].append(idx2)\n",
    "\n",
    "# Membuat fungsi untuk membuat rekomendasi judul\n",
    "def get_recommendations(title_idx):\n",
    "    # Ambil judul-judul yang mirip dengan judul idx\n",
    "    similar_titles = title_similarities.get(title_idx, [])\n",
    "    \n",
    "    # Membuat list untuk menyimpan judul-judul rekomendasi\n",
    "    recommendations = []\n",
    "    \n",
    "    # Loop untuk setiap judul yang mirip\n",
    "    for similar_title in similar_titles:\n",
    "        # Tambahkan judul-judul rekomendasi ke dalam list\n",
    "        recommendations.append(df.loc[similar_title, 'Title'])\n",
    "    \n",
    "    # Kembalikan judul-judul rekomendasi\n",
    "    return recommendations\n",
    "\n",
    "# Contoh penggunaan fungsi get_recommendations\n",
    "title_idx = 1  # Ganti dengan indeks judul yang ingin di-rekomendasikan\n",
    "recommendations = get_recommendations(title_idx)\n",
    "print(f'Selected Title {df.loc[title_idx, \"Title\"]}')\n",
    "for i, recommendation in enumerate(recommendations):\n",
    "    print(f\"Rekomendasi {i+1}: {recommendation}\")"
   ]
  }
 ],
 "metadata": {
  "kernelspec": {
   "display_name": "Python 3",
   "language": "python",
   "name": "python3"
  },
  "language_info": {
   "codemirror_mode": {
    "name": "ipython",
    "version": 3
   },
   "file_extension": ".py",
   "mimetype": "text/x-python",
   "name": "python",
   "nbconvert_exporter": "python",
   "pygments_lexer": "ipython3",
   "version": "3.11.7"
  }
 },
 "nbformat": 4,
 "nbformat_minor": 2
}
