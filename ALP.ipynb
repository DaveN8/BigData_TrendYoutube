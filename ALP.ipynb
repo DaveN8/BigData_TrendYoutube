{
 "cells": [
  {
   "cell_type": "markdown",
   "metadata": {},
   "source": [
    "# Trend Youtube"
   ]
  },
  {
   "cell_type": "code",
   "execution_count": 81,
   "metadata": {},
   "outputs": [],
   "source": [
    "import numpy as np\n",
    "import pandas as pd\n",
    "import re\n",
    "import matplotlib as mpl\n",
    "from sklearn.feature_extraction.text import TfidfVectorizer\n",
    "from sklearn.metrics.pairwise import linear_kernel\n",
    "from nltk.corpus import stopwords\n",
    "from pyspark.sql import SparkSession\n",
    "from pyspark.ml.regression import LinearRegression\n",
    "from pyspark.sql.functions import col, mode, mean, median\n",
    "from pyspark.ml.feature import StringIndexer, VectorAssembler"
   ]
  },
  {
   "cell_type": "code",
   "execution_count": 82,
   "metadata": {},
   "outputs": [
    {
     "name": "stdout",
     "output_type": "stream",
     "text": [
      "                                                 Title  \\\n",
      "0    Call of Duty League Major III Tournament | Cha...   \n",
      "1     I Tried Every Seat on the Most Expensive Airline   \n",
      "2    Inside the NBA Reacts To Timberwolves Stunning...   \n",
      "3                      I protected a LEGO PRESIDENT...   \n",
      "4    #3 TIMBERWOLVES at #2 NUGGETS | FULL GAME 7 HI...   \n",
      "..                                                 ...   \n",
      "795  Etho Plays Minecraft - Episode 586: Chaos To O...   \n",
      "796                    $30,000,000 AI Is Hiding a Scam   \n",
      "797  A Boogie Wit da Hoodie - Body (feat. Cash Coba...   \n",
      "798                           AU$TRALIA: A Travel Game   \n",
      "799                             DRAKE - FAMILY MATTERS   \n",
      "\n",
      "                                           Description  \\\n",
      "0    Welcome to the #CDL2024 Major III Tournament! ...   \n",
      "1    I owed a guy a favor\\nsign up for shopify for ...   \n",
      "2    Watch highlights from Inside the NBA with Shaq...   \n",
      "3    Submit a banger video idea here: https://forms...   \n",
      "4    Never miss a moment with the latest news, tren...   \n",
      "..                                                 ...   \n",
      "795  We return from a 3 month break to take on the ...   \n",
      "796  It's time to see how far the Rabbit hole goes....   \n",
      "797  A Boogie Wit da Hoodie - Body (feat. Cash Coba...   \n",
      "798  Watch episode 2 of Jet Lag: AU$TRALIA now: htt...   \n",
      "799                                                NaN   \n",
      "\n",
      "                                          Thumbnail  \n",
      "0    https://i.ytimg.com/vi/LhgNWp0evvY/default.jpg  \n",
      "1    https://i.ytimg.com/vi/ymvjfu_Hm_8/default.jpg  \n",
      "2    https://i.ytimg.com/vi/MT11io1YWig/default.jpg  \n",
      "3    https://i.ytimg.com/vi/GJKAmywYTgQ/default.jpg  \n",
      "4    https://i.ytimg.com/vi/IHTvqrEOVg4/default.jpg  \n",
      "..                                              ...  \n",
      "795  https://i.ytimg.com/vi/ChC2YPjArg8/default.jpg  \n",
      "796  https://i.ytimg.com/vi/NPOHf20slZg/default.jpg  \n",
      "797  https://i.ytimg.com/vi/RMT3AlAs0r8/default.jpg  \n",
      "798  https://i.ytimg.com/vi/rNxi1-UgV2I/default.jpg  \n",
      "799  https://i.ytimg.com/vi/ZkXG3ZrXlbc/default.jpg  \n",
      "\n",
      "[800 rows x 3 columns]\n"
     ]
    }
   ],
   "source": [
    "# spark = SparkSession.builder.appName(\"Youtube Trend\").getOrCreate()\n",
    "\n",
    "df1 = pd.read_csv('youtube1.csv')\n",
    "df2 = pd.read_csv('youtube2.csv')\n",
    "df3 = pd.read_csv('youtube3.csv')\n",
    "df4 = pd.read_csv('youtube4.csv')\n",
    "# df5 = pd.read_csv('youtube5.csv')\n",
    "\n",
    "df = pd.concat(\n",
    "    map(pd.read_csv, ['youtube1.csv', 'youtube2.csv', 'youtube3.csv', 'youtube4.csv']), \n",
    "    ignore_index=True)\n",
    "print(df)"
   ]
  },
  {
   "cell_type": "code",
   "execution_count": 83,
   "metadata": {},
   "outputs": [
    {
     "name": "stdout",
     "output_type": "stream",
     "text": [
      "25\n",
      "Title           0\n",
      "Description    25\n",
      "Thumbnail       0\n",
      "dtype: int64\n"
     ]
    }
   ],
   "source": [
    "# Null Count for the entire Dataset\n",
    "print(df.isnull().sum().sum())\n",
    "\n",
    "# Null Count for spesific column\n",
    "print(df.isna().sum())"
   ]
  },
  {
   "cell_type": "code",
   "execution_count": 84,
   "metadata": {},
   "outputs": [
    {
     "name": "stdout",
     "output_type": "stream",
     "text": [
      "                                                 Title  \\\n",
      "0    Call of Duty League Major III Tournament | Cha...   \n",
      "1     I Tried Every Seat on the Most Expensive Airline   \n",
      "2    Inside the NBA Reacts To Timberwolves Stunning...   \n",
      "3                      I protected a LEGO PRESIDENT...   \n",
      "4    #3 TIMBERWOLVES at #2 NUGGETS | FULL GAME 7 HI...   \n",
      "..                                                 ...   \n",
      "770       SIDEMEN AMONG US JESTER ROLE: JYNXZI EDITION   \n",
      "771  Etho Plays Minecraft - Episode 586: Chaos To O...   \n",
      "772                    $30,000,000 AI Is Hiding a Scam   \n",
      "773  A Boogie Wit da Hoodie - Body (feat. Cash Coba...   \n",
      "774                           AU$TRALIA: A Travel Game   \n",
      "\n",
      "                                           Description  \\\n",
      "0    Welcome to the #CDL2024 Major III Tournament! ...   \n",
      "1    I owed a guy a favor\\nsign up for shopify for ...   \n",
      "2    Watch highlights from Inside the NBA with Shaq...   \n",
      "3    Submit a banger video idea here: https://forms...   \n",
      "4    Never miss a moment with the latest news, tren...   \n",
      "..                                                 ...   \n",
      "770  Shoutout the greatest Jester to ever live @Jyn...   \n",
      "771  We return from a 3 month break to take on the ...   \n",
      "772  It's time to see how far the Rabbit hole goes....   \n",
      "773  A Boogie Wit da Hoodie - Body (feat. Cash Coba...   \n",
      "774  Watch episode 2 of Jet Lag: AU$TRALIA now: htt...   \n",
      "\n",
      "                                          Thumbnail  \n",
      "0    https://i.ytimg.com/vi/LhgNWp0evvY/default.jpg  \n",
      "1    https://i.ytimg.com/vi/ymvjfu_Hm_8/default.jpg  \n",
      "2    https://i.ytimg.com/vi/MT11io1YWig/default.jpg  \n",
      "3    https://i.ytimg.com/vi/GJKAmywYTgQ/default.jpg  \n",
      "4    https://i.ytimg.com/vi/IHTvqrEOVg4/default.jpg  \n",
      "..                                              ...  \n",
      "770  https://i.ytimg.com/vi/mZX579jBnzI/default.jpg  \n",
      "771  https://i.ytimg.com/vi/ChC2YPjArg8/default.jpg  \n",
      "772  https://i.ytimg.com/vi/NPOHf20slZg/default.jpg  \n",
      "773  https://i.ytimg.com/vi/RMT3AlAs0r8/default.jpg  \n",
      "774  https://i.ytimg.com/vi/rNxi1-UgV2I/default.jpg  \n",
      "\n",
      "[775 rows x 3 columns]\n"
     ]
    }
   ],
   "source": [
    "# Deleting Null Contains Rows and re-index entire dataset\n",
    "df = df.dropna().reset_index()\n",
    "df = df.drop(columns=['index'])\n",
    "print(df)"
   ]
  },
  {
   "cell_type": "code",
   "execution_count": 85,
   "metadata": {},
   "outputs": [
    {
     "name": "stdout",
     "output_type": "stream",
     "text": [
      "0      Title: Call of Duty League Major III Tournamen...\n",
      "1      Title: I Tried Every Seat on the Most Expensiv...\n",
      "2      Title: Inside the NBA Reacts To Timberwolves S...\n",
      "3                 Title: I protected a LEGO PRESIDENT   \n",
      "4      Title: #3 TIMBERWOLVES at #2 NUGGETS   FULL GA...\n",
      "                             ...                        \n",
      "770    Title: SIDEMEN AMONG US JESTER ROLE  JYNXZI ED...\n",
      "771    Title: Etho Plays Minecraft   Episode 586  Cha...\n",
      "772               Title: $30 000 000 AI Is Hiding a Scam\n",
      "773    Title: A Boogie Wit da Hoodie   Body (feat  Ca...\n",
      "774                      Title: AU$TRALIA  A Travel Game\n",
      "Name: title_sentences, Length: 775, dtype: object\n"
     ]
    }
   ],
   "source": [
    "def create_title_sentence(row):\n",
    "    # Handle multiple cuisines\n",
    "    title = row['Title']\n",
    "    if pd.isnull(title):  # Check if cuisines is null\n",
    "        title = \"\"\n",
    "    else:\n",
    "        title = ' '.join(re.split('[|,;:.!?-]', title))\n",
    "        # title = ' '.join(title.split('-'))\n",
    "        # title = ' '.join(title.split('|'))\n",
    "        \n",
    "    \n",
    "    # Return the sentence\n",
    "    return f\"Title: {title}\"\n",
    "\n",
    "# Apply the function to create a new column 'cuisine_sentence' in chefmozcuisine\n",
    "df['title_sentences'] = df.apply(create_title_sentence, axis=1)\n",
    "print(df['title_sentences'])"
   ]
  },
  {
   "cell_type": "code",
   "execution_count": 87,
   "metadata": {},
   "outputs": [],
   "source": [
    "vectorizer = TfidfVectorizer(stop_words=stopwords.words('english'))\n",
    "tfidf_matrix = vectorizer.fit_transform(df['Title'])\n",
    "cosine_similarities = linear_kernel(tfidf_matrix, tfidf_matrix)"
   ]
  },
  {
   "cell_type": "code",
   "execution_count": null,
   "metadata": {},
   "outputs": [],
   "source": []
  }
 ],
 "metadata": {
  "kernelspec": {
   "display_name": "Python 3",
   "language": "python",
   "name": "python3"
  },
  "language_info": {
   "codemirror_mode": {
    "name": "ipython",
    "version": 3
   },
   "file_extension": ".py",
   "mimetype": "text/x-python",
   "name": "python",
   "nbconvert_exporter": "python",
   "pygments_lexer": "ipython3",
   "version": "3.11.8"
  }
 },
 "nbformat": 4,
 "nbformat_minor": 2
}
